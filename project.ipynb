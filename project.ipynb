{
 "cells": [
  {
   "cell_type": "code",
   "execution_count": 4,
   "metadata": {},
   "outputs": [],
   "source": [
    "# Install necessary packages\n",
    "# pip install psola\n",
    "# pip install sounddevice soundfile\n",
    "\n",
    "# Import necessary packages\n",
    "import psola\n",
    "import soundfile as sf\n",
    "import sounddevice as sd\n"
   ]
  },
  {
   "cell_type": "code",
   "execution_count": 11,
   "metadata": {},
   "outputs": [],
   "source": [
    "# Function definition to play audio\n",
    "def play_flac(file_path):\n",
    "    # Read the flac file\n",
    "    data, fs = sf.read(file_path)\n",
    "\n",
    "    # Play the audio\n",
    "    sd.play(data, fs)\n",
    "    sd.wait()  # Wait until playback is finished\n",
    "\n",
    "# Example usage\n",
    "file_path = \"data/dev-clean/84/121123/84-121123-0000.flac\"\n",
    "play_flac(file_path)"
   ]
  },
  {
   "cell_type": "code",
   "execution_count": 16,
   "metadata": {},
   "outputs": [],
   "source": [
    "# Define function to play audio\n",
    "def play_audio(audio, sample_rate):\n",
    "    # Play the audio\n",
    "    sd.play(audio, sample_rate)\n",
    "    sd.wait()  # Wait until playback is finished\n",
    "\n",
    "# Psola operation\n",
    "audio, sample_rate = psola.from_file(file_path)\n",
    "play_audio(audio, sample_rate)"
   ]
  },
  {
   "cell_type": "code",
   "execution_count": 12,
   "metadata": {},
   "outputs": [
    {
     "name": "stdout",
     "output_type": "stream",
     "text": [
      "(array([0., 0., 0., ..., 0., 0., 0.]), 16000)\n"
     ]
    }
   ],
   "source": []
  }
 ],
 "metadata": {
  "kernelspec": {
   "display_name": "Python 3",
   "language": "python",
   "name": "python3"
  },
  "language_info": {
   "codemirror_mode": {
    "name": "ipython",
    "version": 3
   },
   "file_extension": ".py",
   "mimetype": "text/x-python",
   "name": "python",
   "nbconvert_exporter": "python",
   "pygments_lexer": "ipython3",
   "version": "3.10.5"
  }
 },
 "nbformat": 4,
 "nbformat_minor": 2
}
