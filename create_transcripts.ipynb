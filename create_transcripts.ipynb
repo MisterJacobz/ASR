{
 "cells": [
  {
   "cell_type": "code",
   "execution_count": 65,
   "metadata": {},
   "outputs": [],
   "source": [
    "import gzip\n",
    "import re\n",
    "import os\n",
    "\n",
    "def extract_clean_text_from_gz(file_path):\n",
    "    # Extract the text part of the filename\n",
    "    filename = os.path.basename(file_path)\n",
    "    file_prefix = filename.split('.')[0]\n",
    "    # Read the contents of the gzipped file\n",
    "    with gzip.open(file_path, 'rt') as file:\n",
    "        contents = file.read()\n",
    "    # Regex pattern to match text within quotation marks, excluding specific terms\n",
    "    pattern = r'\"(.*?)\"'\n",
    "    matches = re.findall(pattern, contents)\n",
    "    # Exclude matches that contain \"TextGrid\", \"IntervalTier\", \"N02000\", \"ooTextFile short\", or are empty\n",
    "    exclude_terms = {\"TextGrid\", \"IntervalTier\", \"N02000\", \"N02001\", \"N02002\", \"N02003\", \"N02004\", \"N02005\", \"N02006\", \"N02007\", \"N02008\", \"N02009\", \"ooTextFile short\", \"\"}\n",
    "    text_lines = []\n",
    "    for match in matches:\n",
    "        if not any(match == term for term in exclude_terms):\n",
    "            text_lines.append(match)\n",
    "    # Remove specific markers like ^ and |\n",
    "    cleaned_lines = [re.sub(r'\\^|\\| | \\||\\.', '', line) for line in text_lines]\n",
    "    \n",
    "    result_text = file_prefix + \" \" + \" \".join(cleaned_lines)\n",
    "    # print(result_text)\n",
    "    return result_text\n"
   ]
  },
  {
   "cell_type": "code",
   "execution_count": 69,
   "metadata": {},
   "outputs": [
    {
     "name": "stdout",
     "output_type": "stream",
     "text": [
      "134\n",
      "fn001601 van de Nederlandse werknemers maakt bijna de helft overuren ze krijgen daarvoor niet of nauwelijks betaald dat blijkt uit een onderzoek in opdracht van de FNV vierenveertig procent werkt precies het aantal uren dat in het contract staatelf procent drukt zich en werkt minder uren de helft van de mensen werkt ook wel eens op zaterdag of zondag\n"
     ]
    }
   ],
   "source": [
    "def process_folder(folder_path):\n",
    "    results = []\n",
    "    for filename in os.listdir(folder_path):\n",
    "        if filename.endswith('.gz'):\n",
    "            file_path = os.path.join(folder_path, filename)\n",
    "            cleaned_text = extract_clean_text_from_gz(file_path)\n",
    "            results.append(cleaned_text)\n",
    "    \n",
    "    # Save results to transcripts.txt\n",
    "    print(len(results))\n",
    "    print(results[0])\n",
    "    with open(os.path.join(folder_path, 'transcripts.txt'), 'w') as outfile:\n",
    "        for line in results:\n",
    "            outfile.write(line + \"\\n\")\n",
    "\n",
    "# Example usage\n",
    "folder_path = 'data/Transcripts_clean'\n",
    "process_folder(folder_path)"
   ]
  },
  {
   "cell_type": "code",
   "execution_count": 79,
   "metadata": {},
   "outputs": [
    {
     "name": "stdout",
     "output_type": "stream",
     "text": [
      "900\n"
     ]
    }
   ],
   "source": [
    "folder_path = 'data/transcripts_vctk'\n",
    "results = []\n",
    "for root, dirs, files in os.walk(folder_path):\n",
    "    for file in files:\n",
    "        key = file.split('.')[0]\n",
    "        file_path = os.path.join(root, file)\n",
    "        file_path = file_path.replace('\\\\', '/')\n",
    " \n",
    "        with open(file_path, 'r') as f:\n",
    "            text = f.read()\n",
    "            transcript = key + \" \" + text\n",
    "            results.append(transcript)\n",
    "            \n",
    "print(len(results))\n",
    "with open(os.path.join(folder_path, 'transcripts.txt'), 'w') as outfile:\n",
    "    for line in results:\n",
    "        outfile.write(line)\n",
    "        \n",
    "        "
   ]
  }
 ],
 "metadata": {
  "kernelspec": {
   "display_name": "Python 3",
   "language": "python",
   "name": "python3"
  },
  "language_info": {
   "codemirror_mode": {
    "name": "ipython",
    "version": 3
   },
   "file_extension": ".py",
   "mimetype": "text/x-python",
   "name": "python",
   "nbconvert_exporter": "python",
   "pygments_lexer": "ipython3",
   "version": "3.11.5"
  }
 },
 "nbformat": 4,
 "nbformat_minor": 2
}
